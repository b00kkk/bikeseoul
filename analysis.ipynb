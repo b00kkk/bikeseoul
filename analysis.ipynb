{
  "nbformat": 4,
  "nbformat_minor": 0,
  "metadata": {
    "colab": {
      "provenance": [],
      "authorship_tag": "ABX9TyNZxKNlSQfPqIVx9VNU9E4q",
      "include_colab_link": true
    },
    "kernelspec": {
      "name": "python3",
      "display_name": "Python 3"
    },
    "language_info": {
      "name": "python"
    }
  },
  "cells": [
    {
      "cell_type": "markdown",
      "metadata": {
        "id": "view-in-github",
        "colab_type": "text"
      },
      "source": [
        "<a href=\"https://colab.research.google.com/github/qnrua0511/bikeseoul/blob/main/analysis.ipynb\" target=\"_parent\"><img src=\"https://colab.research.google.com/assets/colab-badge.svg\" alt=\"Open In Colab\"/></a>"
      ]
    },
    {
      "cell_type": "code",
      "source": [
        "import pandas as pd\n",
        "from geopy.distance import geodesic\n",
        "from sklearn.model_selection import train_test_split\n",
        "from sklearn.ensemble import RandomForestClassifier\n",
        "from sklearn.metrics import accuracy_score, confusion_matrix, classification_report\n",
        "import seaborn as sns\n",
        "import matplotlib.pyplot as plt\n",
        "\n",
        "# 파일 불러오기\n",
        "subway_df = pd.read_csv('subway.csv')\n",
        "rental_shop_df = pd.read_csv('rental_shop_add.csv', encoding='cp949')\n",
        "\n",
        "# 필요한 칼럼만 선택\n",
        "subway_df = subway_df[['역명', '위도', '경도']]\n",
        "rental_shop_df = rental_shop_df[['대여소명', '위도', '경도']]\n",
        "\n",
        "# 결측치 제거\n",
        "subway_df.dropna(inplace=True)\n",
        "rental_shop_df.dropna(inplace=True)\n",
        "\n",
        "# 지하철역 근처에 대여소가 있는지 여부 판단 함수\n",
        "def is_nearby(subway_lat, subway_lon, rental_lat, rental_lon, threshold=0.5):\n",
        "    distance = geodesic((subway_lat, subway_lon), (rental_lat, rental_lon)).km\n",
        "    return distance <= threshold\n",
        "\n",
        "# 각 지하철역에 대해 근처에 대여소가 있는지 여부를 판단하여 새로운 칼럼 추가\n",
        "subway_df['대여소_근처'] = subway_df.apply(\n",
        "    lambda row: any(is_nearby(row['위도'], row['경도'], r_lat, r_lon) for r_lat, r_lon in zip(rental_shop_df['위도'], rental_shop_df['경도'])),\n",
        "    axis=1\n",
        ")\n",
        "\n",
        "# 특성(X)과 라벨(y) 정의\n",
        "X = subway_df[['위도', '경도']]\n",
        "y = subway_df['대여소_근처'].astype(int)\n",
        "\n",
        "# 학습 데이터와 테스트 데이터 분할\n",
        "X_train, X_test, y_train, y_test = train_test_split(X, y, test_size=0.2, random_state=42)\n",
        "\n",
        "# 랜덤 포레스트 분류기 정의 및 학습\n",
        "rf = RandomForestClassifier(random_state=42)\n",
        "rf.fit(X_train, y_train)\n",
        "\n",
        "# 예측\n",
        "y_pred = rf.predict(X_test)\n",
        "# 혼동행렬 계산\n",
        "conf_matrix = confusion_matrix(y_test, y_pred)\n",
        "\n",
        "# 혼동행렬 시각화\n",
        "plt.figure(figsize=(8, 6))\n",
        "sns.heatmap(conf_matrix, annot=True, fmt='d', cmap='Blues', xticklabels=['No Rental Shop', 'Rental Shop'], yticklabels=['No Rental Shop', 'Rental Shop'])\n",
        "plt.xlabel('Predicted')\n",
        "plt.ylabel('Actual')\n",
        "plt.title('Confusion Matrix')\n",
        "plt.show()\n",
        "\n",
        "# 분류 보고서 출력\n",
        "print(classification_report(y_test, y_pred, target_names=['No Rental Shop', 'Rental Shop']))"
      ],
      "metadata": {
        "colab": {
          "base_uri": "https://localhost:8080/",
          "height": 732
        },
        "id": "9UtHKuj5bAM4",
        "outputId": "567dec16-9d6e-4f9b-b511-ab1e2fdde121"
      },
      "execution_count": 7,
      "outputs": [
        {
          "output_type": "display_data",
          "data": {
            "text/plain": [
              "<Figure size 800x600 with 2 Axes>"
            ],
            "image/png": "[encoded data removed]"
          },
          "metadata": {}
        },
        {
          "output_type": "stream",
          "name": "stdout",
          "text": [
            "                precision    recall  f1-score   support\n",
            "\n",
            "No Rental Shop       0.50      0.20      0.29         5\n",
            "   Rental Shop       0.93      0.98      0.95        53\n",
            "\n",
            "      accuracy                           0.91        58\n",
            "     macro avg       0.71      0.59      0.62        58\n",
            "  weighted avg       0.89      0.91      0.90        58\n",
            "\n"
          ]
        }
      ]
    },
    {
      "cell_type": "markdown",
      "source": [
        "랜덤 포레스트 분류\n",
        "\n",
        "- 랜덤 포레스트가 조정을 안해도 어느 정도 성능이 좋게 나오기에 랜덤 포레스트 분류 사용"
      ],
      "metadata": {
        "id": "DX33hVcxb2G_"
      }
    },
    {
      "cell_type": "markdown",
      "source": [
        "해석\n",
        "\n",
        "- Rental Shop의 정밀도가 0.93으로 잘 예측함\n",
        "\n",
        "- 하지만, No Rental Shop의 경우 데이터의 수가 적어 잘 예측하지 못함\n",
        "\n",
        "- 데이터의 수가 적다는 것은 대부분의 지하철 역에는 대여소가 있기 때문임\n",
        "\n",
        "=> 이를 통해 지하철역 근처에는 대여소가 대부분 있다는 것을 확인 할 수 있음\n",
        "\n"
      ],
      "metadata": {
        "id": "x609RomSdhVJ"
      }
    },
    {
      "cell_type": "code",
      "source": [],
      "metadata": {
        "id": "BHx-Ad-GbDHh"
      },
      "execution_count": null,
      "outputs": []
    }
  ]
}